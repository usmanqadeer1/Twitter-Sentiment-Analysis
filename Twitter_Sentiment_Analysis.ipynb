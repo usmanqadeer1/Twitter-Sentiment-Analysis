{
  "cells": [
    {
      "cell_type": "markdown",
      "metadata": {
        "id": "view-in-github",
        "colab_type": "text"
      },
      "source": [
        "<a href=\"https://colab.research.google.com/github/usmanqadeer1/Twitter-Sentiment-Analysis/blob/main/Twitter_Sentiment_Analysis.ipynb\" target=\"_parent\"><img src=\"https://colab.research.google.com/assets/colab-badge.svg\" alt=\"Open In Colab\"/></a>"
      ]
    },
    {
      "cell_type": "markdown",
      "source": [
        "# Mount drive and unzip dataset"
      ],
      "metadata": {
        "id": "8gkZizX8DIud"
      }
    },
    {
      "cell_type": "code",
      "source": [
        "# mount drive\n",
        "\n",
        "from google.colab import drive\n",
        "drive.mount('/content/drive')\n"
      ],
      "metadata": {
        "colab": {
          "base_uri": "https://localhost:8080/"
        },
        "id": "AvFyz-ufCo4E",
        "outputId": "1458ce6c-84ac-44f9-9564-1744e2843d98"
      },
      "execution_count": 1,
      "outputs": [
        {
          "output_type": "stream",
          "name": "stdout",
          "text": [
            "Mounted at /content/drive\n"
          ]
        }
      ]
    },
    {
      "cell_type": "code",
      "source": [
        "# prompt: unzip /content/drive/MyDrive/Colab Notebooks/TwitterSentimentAnalysis/archive.zip in same folder\n",
        "\n",
        "# !unzip /content/drive/MyDrive/Colab\\ Notebooks/TwitterSentimentAnalysis/archive.zip -d /content/drive/MyDrive/Colab\\ Notebooks/TwitterSentimentAnalysis/\n",
        "\n",
        "# !unzip \"/content/drive/MyDrive/Colab Notebooks/TwitterSentimentAnalysis/glove.6B.100d.txt.zip\" -d /content/drive/MyDrive/Colab\\ Notebooks/TwitterSentimentAnalysis/\n"
      ],
      "metadata": {
        "colab": {
          "base_uri": "https://localhost:8080/"
        },
        "id": "8YyAtmN8C_on",
        "outputId": "77c0dae6-a48c-44aa-e528-e9b193003bb4"
      },
      "execution_count": null,
      "outputs": [
        {
          "output_type": "stream",
          "name": "stdout",
          "text": [
            "Archive:  /content/drive/MyDrive/Colab Notebooks/TwitterSentimentAnalysis/glove.6B.100d.txt.zip\n",
            "  inflating: /content/drive/MyDrive/Colab Notebooks/TwitterSentimentAnalysis/glove.6B.100d.txt  \n"
          ]
        }
      ]
    },
    {
      "cell_type": "markdown",
      "source": [
        "# Get Dataset"
      ],
      "metadata": {
        "id": "DChEG9lcDNNF"
      }
    },
    {
      "cell_type": "code",
      "execution_count": 2,
      "metadata": {
        "id": "44wOs4Q8iWLT"
      },
      "outputs": [],
      "source": [
        "import pandas as pd\n",
        "import numpy as np\n",
        "from sklearn.model_selection import train_test_split\n",
        "import tensorflow as tf\n",
        "from tensorflow.keras.layers import Embedding, LSTM, Dense, Dropout, SpatialDropout1D, Bidirectional\n",
        "from tensorflow.keras.preprocessing.text import Tokenizer\n",
        "from tensorflow.keras.preprocessing.sequence import pad_sequences\n",
        "from sklearn.preprocessing import LabelEncoder\n",
        "from joblib import dump\n"
      ]
    },
    {
      "cell_type": "code",
      "execution_count": 5,
      "metadata": {
        "id": "NzF8odCWisCD"
      },
      "outputs": [],
      "source": [
        "column_names = ['Tweet ID', 'Entity', 'Sentiment', 'Tweet']\n",
        "# train_data_ = pd.read_csv('/content/drive/MyDrive/Colab Notebooks/TwitterSentimentAnalysis/twitter_training.csv', names =column_names)\n",
        "# test_data_ = pd.read_csv('/content/drive/MyDrive/Colab Notebooks/TwitterSentimentAnalysis/twitter_validation.csv', names =column_names)\n",
        "train_data_ = pd.read_csv('/content/twitter_training.csv', names =column_names)\n",
        "test_data_ = pd.read_csv('/content/twitter_validation.csv', names =column_names)"
      ]
    },
    {
      "cell_type": "code",
      "execution_count": 6,
      "metadata": {
        "colab": {
          "base_uri": "https://localhost:8080/",
          "height": 206
        },
        "id": "OkrauqkknKlc",
        "outputId": "13565657-c67a-4334-ee32-4a855c8d79e2"
      },
      "outputs": [
        {
          "output_type": "execute_result",
          "data": {
            "text/plain": [
              "   Tweet ID       Entity Sentiment  \\\n",
              "0      2401  Borderlands  Positive   \n",
              "1      2401  Borderlands  Positive   \n",
              "2      2401  Borderlands  Positive   \n",
              "3      2401  Borderlands  Positive   \n",
              "4      2401  Borderlands  Positive   \n",
              "\n",
              "                                               Tweet  \n",
              "0  im getting on borderlands and i will murder yo...  \n",
              "1  I am coming to the borders and I will kill you...  \n",
              "2  im getting on borderlands and i will kill you ...  \n",
              "3  im coming on borderlands and i will murder you...  \n",
              "4  im getting on borderlands 2 and i will murder ...  "
            ],
            "text/html": [
              "\n",
              "  <div id=\"df-e1983c2b-bb2f-43ec-a497-e3987e0f83e9\" class=\"colab-df-container\">\n",
              "    <div>\n",
              "<style scoped>\n",
              "    .dataframe tbody tr th:only-of-type {\n",
              "        vertical-align: middle;\n",
              "    }\n",
              "\n",
              "    .dataframe tbody tr th {\n",
              "        vertical-align: top;\n",
              "    }\n",
              "\n",
              "    .dataframe thead th {\n",
              "        text-align: right;\n",
              "    }\n",
              "</style>\n",
              "<table border=\"1\" class=\"dataframe\">\n",
              "  <thead>\n",
              "    <tr style=\"text-align: right;\">\n",
              "      <th></th>\n",
              "      <th>Tweet ID</th>\n",
              "      <th>Entity</th>\n",
              "      <th>Sentiment</th>\n",
              "      <th>Tweet</th>\n",
              "    </tr>\n",
              "  </thead>\n",
              "  <tbody>\n",
              "    <tr>\n",
              "      <th>0</th>\n",
              "      <td>2401</td>\n",
              "      <td>Borderlands</td>\n",
              "      <td>Positive</td>\n",
              "      <td>im getting on borderlands and i will murder yo...</td>\n",
              "    </tr>\n",
              "    <tr>\n",
              "      <th>1</th>\n",
              "      <td>2401</td>\n",
              "      <td>Borderlands</td>\n",
              "      <td>Positive</td>\n",
              "      <td>I am coming to the borders and I will kill you...</td>\n",
              "    </tr>\n",
              "    <tr>\n",
              "      <th>2</th>\n",
              "      <td>2401</td>\n",
              "      <td>Borderlands</td>\n",
              "      <td>Positive</td>\n",
              "      <td>im getting on borderlands and i will kill you ...</td>\n",
              "    </tr>\n",
              "    <tr>\n",
              "      <th>3</th>\n",
              "      <td>2401</td>\n",
              "      <td>Borderlands</td>\n",
              "      <td>Positive</td>\n",
              "      <td>im coming on borderlands and i will murder you...</td>\n",
              "    </tr>\n",
              "    <tr>\n",
              "      <th>4</th>\n",
              "      <td>2401</td>\n",
              "      <td>Borderlands</td>\n",
              "      <td>Positive</td>\n",
              "      <td>im getting on borderlands 2 and i will murder ...</td>\n",
              "    </tr>\n",
              "  </tbody>\n",
              "</table>\n",
              "</div>\n",
              "    <div class=\"colab-df-buttons\">\n",
              "\n",
              "  <div class=\"colab-df-container\">\n",
              "    <button class=\"colab-df-convert\" onclick=\"convertToInteractive('df-e1983c2b-bb2f-43ec-a497-e3987e0f83e9')\"\n",
              "            title=\"Convert this dataframe to an interactive table.\"\n",
              "            style=\"display:none;\">\n",
              "\n",
              "  <svg xmlns=\"http://www.w3.org/2000/svg\" height=\"24px\" viewBox=\"0 -960 960 960\">\n",
              "    <path d=\"M120-120v-720h720v720H120Zm60-500h600v-160H180v160Zm220 220h160v-160H400v160Zm0 220h160v-160H400v160ZM180-400h160v-160H180v160Zm440 0h160v-160H620v160ZM180-180h160v-160H180v160Zm440 0h160v-160H620v160Z\"/>\n",
              "  </svg>\n",
              "    </button>\n",
              "\n",
              "  <style>\n",
              "    .colab-df-container {\n",
              "      display:flex;\n",
              "      gap: 12px;\n",
              "    }\n",
              "\n",
              "    .colab-df-convert {\n",
              "      background-color: #E8F0FE;\n",
              "      border: none;\n",
              "      border-radius: 50%;\n",
              "      cursor: pointer;\n",
              "      display: none;\n",
              "      fill: #1967D2;\n",
              "      height: 32px;\n",
              "      padding: 0 0 0 0;\n",
              "      width: 32px;\n",
              "    }\n",
              "\n",
              "    .colab-df-convert:hover {\n",
              "      background-color: #E2EBFA;\n",
              "      box-shadow: 0px 1px 2px rgba(60, 64, 67, 0.3), 0px 1px 3px 1px rgba(60, 64, 67, 0.15);\n",
              "      fill: #174EA6;\n",
              "    }\n",
              "\n",
              "    .colab-df-buttons div {\n",
              "      margin-bottom: 4px;\n",
              "    }\n",
              "\n",
              "    [theme=dark] .colab-df-convert {\n",
              "      background-color: #3B4455;\n",
              "      fill: #D2E3FC;\n",
              "    }\n",
              "\n",
              "    [theme=dark] .colab-df-convert:hover {\n",
              "      background-color: #434B5C;\n",
              "      box-shadow: 0px 1px 3px 1px rgba(0, 0, 0, 0.15);\n",
              "      filter: drop-shadow(0px 1px 2px rgba(0, 0, 0, 0.3));\n",
              "      fill: #FFFFFF;\n",
              "    }\n",
              "  </style>\n",
              "\n",
              "    <script>\n",
              "      const buttonEl =\n",
              "        document.querySelector('#df-e1983c2b-bb2f-43ec-a497-e3987e0f83e9 button.colab-df-convert');\n",
              "      buttonEl.style.display =\n",
              "        google.colab.kernel.accessAllowed ? 'block' : 'none';\n",
              "\n",
              "      async function convertToInteractive(key) {\n",
              "        const element = document.querySelector('#df-e1983c2b-bb2f-43ec-a497-e3987e0f83e9');\n",
              "        const dataTable =\n",
              "          await google.colab.kernel.invokeFunction('convertToInteractive',\n",
              "                                                    [key], {});\n",
              "        if (!dataTable) return;\n",
              "\n",
              "        const docLinkHtml = 'Like what you see? Visit the ' +\n",
              "          '<a target=\"_blank\" href=https://colab.research.google.com/notebooks/data_table.ipynb>data table notebook</a>'\n",
              "          + ' to learn more about interactive tables.';\n",
              "        element.innerHTML = '';\n",
              "        dataTable['output_type'] = 'display_data';\n",
              "        await google.colab.output.renderOutput(dataTable, element);\n",
              "        const docLink = document.createElement('div');\n",
              "        docLink.innerHTML = docLinkHtml;\n",
              "        element.appendChild(docLink);\n",
              "      }\n",
              "    </script>\n",
              "  </div>\n",
              "\n",
              "\n",
              "<div id=\"df-696d8355-8668-405e-b9b5-c282aeceef14\">\n",
              "  <button class=\"colab-df-quickchart\" onclick=\"quickchart('df-696d8355-8668-405e-b9b5-c282aeceef14')\"\n",
              "            title=\"Suggest charts\"\n",
              "            style=\"display:none;\">\n",
              "\n",
              "<svg xmlns=\"http://www.w3.org/2000/svg\" height=\"24px\"viewBox=\"0 0 24 24\"\n",
              "     width=\"24px\">\n",
              "    <g>\n",
              "        <path d=\"M19 3H5c-1.1 0-2 .9-2 2v14c0 1.1.9 2 2 2h14c1.1 0 2-.9 2-2V5c0-1.1-.9-2-2-2zM9 17H7v-7h2v7zm4 0h-2V7h2v10zm4 0h-2v-4h2v4z\"/>\n",
              "    </g>\n",
              "</svg>\n",
              "  </button>\n",
              "\n",
              "<style>\n",
              "  .colab-df-quickchart {\n",
              "      --bg-color: #E8F0FE;\n",
              "      --fill-color: #1967D2;\n",
              "      --hover-bg-color: #E2EBFA;\n",
              "      --hover-fill-color: #174EA6;\n",
              "      --disabled-fill-color: #AAA;\n",
              "      --disabled-bg-color: #DDD;\n",
              "  }\n",
              "\n",
              "  [theme=dark] .colab-df-quickchart {\n",
              "      --bg-color: #3B4455;\n",
              "      --fill-color: #D2E3FC;\n",
              "      --hover-bg-color: #434B5C;\n",
              "      --hover-fill-color: #FFFFFF;\n",
              "      --disabled-bg-color: #3B4455;\n",
              "      --disabled-fill-color: #666;\n",
              "  }\n",
              "\n",
              "  .colab-df-quickchart {\n",
              "    background-color: var(--bg-color);\n",
              "    border: none;\n",
              "    border-radius: 50%;\n",
              "    cursor: pointer;\n",
              "    display: none;\n",
              "    fill: var(--fill-color);\n",
              "    height: 32px;\n",
              "    padding: 0;\n",
              "    width: 32px;\n",
              "  }\n",
              "\n",
              "  .colab-df-quickchart:hover {\n",
              "    background-color: var(--hover-bg-color);\n",
              "    box-shadow: 0 1px 2px rgba(60, 64, 67, 0.3), 0 1px 3px 1px rgba(60, 64, 67, 0.15);\n",
              "    fill: var(--button-hover-fill-color);\n",
              "  }\n",
              "\n",
              "  .colab-df-quickchart-complete:disabled,\n",
              "  .colab-df-quickchart-complete:disabled:hover {\n",
              "    background-color: var(--disabled-bg-color);\n",
              "    fill: var(--disabled-fill-color);\n",
              "    box-shadow: none;\n",
              "  }\n",
              "\n",
              "  .colab-df-spinner {\n",
              "    border: 2px solid var(--fill-color);\n",
              "    border-color: transparent;\n",
              "    border-bottom-color: var(--fill-color);\n",
              "    animation:\n",
              "      spin 1s steps(1) infinite;\n",
              "  }\n",
              "\n",
              "  @keyframes spin {\n",
              "    0% {\n",
              "      border-color: transparent;\n",
              "      border-bottom-color: var(--fill-color);\n",
              "      border-left-color: var(--fill-color);\n",
              "    }\n",
              "    20% {\n",
              "      border-color: transparent;\n",
              "      border-left-color: var(--fill-color);\n",
              "      border-top-color: var(--fill-color);\n",
              "    }\n",
              "    30% {\n",
              "      border-color: transparent;\n",
              "      border-left-color: var(--fill-color);\n",
              "      border-top-color: var(--fill-color);\n",
              "      border-right-color: var(--fill-color);\n",
              "    }\n",
              "    40% {\n",
              "      border-color: transparent;\n",
              "      border-right-color: var(--fill-color);\n",
              "      border-top-color: var(--fill-color);\n",
              "    }\n",
              "    60% {\n",
              "      border-color: transparent;\n",
              "      border-right-color: var(--fill-color);\n",
              "    }\n",
              "    80% {\n",
              "      border-color: transparent;\n",
              "      border-right-color: var(--fill-color);\n",
              "      border-bottom-color: var(--fill-color);\n",
              "    }\n",
              "    90% {\n",
              "      border-color: transparent;\n",
              "      border-bottom-color: var(--fill-color);\n",
              "    }\n",
              "  }\n",
              "</style>\n",
              "\n",
              "  <script>\n",
              "    async function quickchart(key) {\n",
              "      const quickchartButtonEl =\n",
              "        document.querySelector('#' + key + ' button');\n",
              "      quickchartButtonEl.disabled = true;  // To prevent multiple clicks.\n",
              "      quickchartButtonEl.classList.add('colab-df-spinner');\n",
              "      try {\n",
              "        const charts = await google.colab.kernel.invokeFunction(\n",
              "            'suggestCharts', [key], {});\n",
              "      } catch (error) {\n",
              "        console.error('Error during call to suggestCharts:', error);\n",
              "      }\n",
              "      quickchartButtonEl.classList.remove('colab-df-spinner');\n",
              "      quickchartButtonEl.classList.add('colab-df-quickchart-complete');\n",
              "    }\n",
              "    (() => {\n",
              "      let quickchartButtonEl =\n",
              "        document.querySelector('#df-696d8355-8668-405e-b9b5-c282aeceef14 button');\n",
              "      quickchartButtonEl.style.display =\n",
              "        google.colab.kernel.accessAllowed ? 'block' : 'none';\n",
              "    })();\n",
              "  </script>\n",
              "</div>\n",
              "\n",
              "    </div>\n",
              "  </div>\n"
            ],
            "application/vnd.google.colaboratory.intrinsic+json": {
              "type": "dataframe",
              "variable_name": "train_data_",
              "summary": "{\n  \"name\": \"train_data_\",\n  \"rows\": 74682,\n  \"fields\": [\n    {\n      \"column\": \"Tweet ID\",\n      \"properties\": {\n        \"dtype\": \"number\",\n        \"std\": 3740,\n        \"min\": 1,\n        \"max\": 13200,\n        \"num_unique_values\": 12447,\n        \"samples\": [\n          1616,\n          2660,\n          2335\n        ],\n        \"semantic_type\": \"\",\n        \"description\": \"\"\n      }\n    },\n    {\n      \"column\": \"Entity\",\n      \"properties\": {\n        \"dtype\": \"category\",\n        \"num_unique_values\": 32,\n        \"samples\": [\n          \"Cyberpunk2077\",\n          \"Microsoft\",\n          \"TomClancysRainbowSix\"\n        ],\n        \"semantic_type\": \"\",\n        \"description\": \"\"\n      }\n    },\n    {\n      \"column\": \"Sentiment\",\n      \"properties\": {\n        \"dtype\": \"category\",\n        \"num_unique_values\": 4,\n        \"samples\": [\n          \"Neutral\",\n          \"Irrelevant\",\n          \"Positive\"\n        ],\n        \"semantic_type\": \"\",\n        \"description\": \"\"\n      }\n    },\n    {\n      \"column\": \"Tweet\",\n      \"properties\": {\n        \"dtype\": \"string\",\n        \"num_unique_values\": 69491,\n        \"samples\": [\n          \"Thanks to @ Kain0025 for the raid. Thanks to @ gamingstreams and @ velonese002 for the bitts! And thanks to @ ColTrysTohete for hanging out and hanging out!. I hope to continue streaming regularly.. watch the w / @ Cohtstreams _ coming live!\",\n          \"How not to get bored about every damn thing in life.\",\n          \"The Best Way to Protect the Samsung Galaxy Note10+ buff.ly/2zkjIhU <unk> ^\"\n        ],\n        \"semantic_type\": \"\",\n        \"description\": \"\"\n      }\n    }\n  ]\n}"
            }
          },
          "metadata": {},
          "execution_count": 6
        }
      ],
      "source": [
        "train_data_.head()"
      ]
    },
    {
      "cell_type": "markdown",
      "source": [
        "# Data Preprocessing"
      ],
      "metadata": {
        "id": "Gt_v6YymEKVE"
      }
    },
    {
      "cell_type": "code",
      "source": [
        "def preprocess(df):\n",
        "    # Drop rows with missing values\n",
        "    df = df.dropna()\n",
        "    # remove duplicates\n",
        "    df = df.drop_duplicates()\n",
        "    # drop column Tweet_ID and Entity\n",
        "    df = df.drop(['Tweet ID', 'Entity'], axis=1)\n",
        "    # Encode labels\n",
        "    label_encoder = LabelEncoder()\n",
        "    df['Sentiment'] = label_encoder.fit_transform(df['Sentiment'])\n",
        "    return df\n",
        "train_data = preprocess(train_data_)\n",
        "test_data = preprocess(test_data_)"
      ],
      "metadata": {
        "id": "EQ3M1AXUFzxC"
      },
      "execution_count": 7,
      "outputs": []
    },
    {
      "cell_type": "markdown",
      "source": [
        "## Clean Text"
      ],
      "metadata": {
        "id": "z47XTbO2hi7p"
      }
    },
    {
      "cell_type": "code",
      "source": [
        "# Clean text, remove stop words\n",
        "\n",
        "import re\n",
        "import nltk\n",
        "from nltk.corpus import stopwords\n",
        "nltk.download('stopwords')\n",
        "\n",
        "def clean_text(text):\n",
        "    # Remove URLs\n",
        "    text = re.sub(r'http\\S+', '', text)\n",
        "    # Remove mentions\n",
        "    text = re.sub(r'@\\S+', '', text)\n",
        "    # Remove hashtags\n",
        "    text = re.sub(r'#\\S+', '', text)\n",
        "    # Remove special characters and punctuation\n",
        "    text = re.sub(r'[^a-zA-Z0-9\\s]', '', text)\n",
        "    # Convert to lowercase\n",
        "    text = text.lower()\n",
        "    # Remove stop words\n",
        "    stop_words = set(stopwords.words('english'))\n",
        "    words = text.split()\n",
        "    text = ' '.join([word for word in words if word not in stop_words])\n",
        "    return text\n"
      ],
      "metadata": {
        "colab": {
          "base_uri": "https://localhost:8080/"
        },
        "id": "rnPbLNOlm7Bq",
        "outputId": "308e3b54-fed8-47d5-ced9-8bb5e9344f00"
      },
      "execution_count": 8,
      "outputs": [
        {
          "output_type": "stream",
          "name": "stderr",
          "text": [
            "[nltk_data] Downloading package stopwords to /root/nltk_data...\n",
            "[nltk_data]   Unzipping corpora/stopwords.zip.\n"
          ]
        }
      ]
    },
    {
      "cell_type": "code",
      "source": [
        "# Clean tweets\n",
        "train_data['Tweet'] = train_data['Tweet'].apply(clean_text)\n",
        "test_data['Tweet'] = test_data['Tweet'].apply(clean_text)"
      ],
      "metadata": {
        "id": "uTk6y2-hvo4Y"
      },
      "execution_count": 9,
      "outputs": []
    },
    {
      "cell_type": "markdown",
      "source": [
        "## Tokenize"
      ],
      "metadata": {
        "id": "qQ-QYJV4hpOq"
      }
    },
    {
      "cell_type": "code",
      "source": [
        "max_words = 20000\n",
        "max_length = 100\n",
        "\n",
        "# Tokenize tweets\n",
        "tokenizer = Tokenizer(num_words=max_words, lower = True)\n",
        "tokenizer.fit_on_texts(train_data['Tweet'])\n",
        "word_index = tokenizer.word_index\n",
        "\n",
        "# Convert tweets to sequences\n",
        "train_sequences = tokenizer.texts_to_sequences(train_data['Tweet'])\n",
        "test_sequences = tokenizer.texts_to_sequences(test_data['Tweet'])"
      ],
      "metadata": {
        "id": "jq2yYUNbgCCW"
      },
      "execution_count": 10,
      "outputs": []
    },
    {
      "cell_type": "code",
      "source": [
        "vocab_size = len(word_index) + 1  # Add 1 for the out-of-vocabulary token\n",
        "print(\"Vocabulary size:\", vocab_size)"
      ],
      "metadata": {
        "colab": {
          "base_uri": "https://localhost:8080/"
        },
        "id": "DnQmI3Q3sIi_",
        "outputId": "fc3945a8-b7f0-4da9-cf06-24e5e58c36e6"
      },
      "execution_count": 11,
      "outputs": [
        {
          "output_type": "stream",
          "name": "stdout",
          "text": [
            "Vocabulary size: 39482\n"
          ]
        }
      ]
    },
    {
      "cell_type": "markdown",
      "source": [
        "## Add padding"
      ],
      "metadata": {
        "id": "nMPgaM62j4XL"
      }
    },
    {
      "cell_type": "code",
      "source": [
        "# find second maximum length of sequence in train_sequences\n",
        "\n",
        "# Find the length of each sequence\n",
        "sequence_lengths = [len(seq) for seq in train_sequences]\n",
        "\n",
        "# Sort the lengths in descending order\n",
        "sorted_lengths = sorted(sequence_lengths, reverse=True)\n",
        "\n",
        "# Get the second maximum length\n",
        "second_max_length = sorted_lengths[2]\n",
        "\n",
        "print(\"Second maximum length of sequence:\", second_max_length)\n"
      ],
      "metadata": {
        "colab": {
          "base_uri": "https://localhost:8080/"
        },
        "id": "dD0iP6XSijJb",
        "outputId": "0c341715-8071-402a-dd4d-876b741036fc"
      },
      "execution_count": 12,
      "outputs": [
        {
          "output_type": "stream",
          "name": "stdout",
          "text": [
            "Second maximum length of sequence: 99\n"
          ]
        }
      ]
    },
    {
      "cell_type": "code",
      "source": [
        "X_train_pad = pad_sequences(train_sequences, maxlen=max_length, padding='post')\n",
        "X_test_pad = pad_sequences(test_sequences, maxlen=max_length, padding='post')"
      ],
      "metadata": {
        "id": "Q46vpyEfi9DT"
      },
      "execution_count": 13,
      "outputs": []
    },
    {
      "cell_type": "markdown",
      "source": [
        "## One hot encoding"
      ],
      "metadata": {
        "id": "zth1gHCej8JX"
      }
    },
    {
      "cell_type": "code",
      "source": [
        "y_train = train_data['Sentiment']\n",
        "y_test = test_data['Sentiment']"
      ],
      "metadata": {
        "id": "M07vCxM0hSCL"
      },
      "execution_count": 16,
      "outputs": []
    },
    {
      "cell_type": "code",
      "source": [
        "y_train_onehot = tf.keras.utils.to_categorical(y_train, num_classes=4)\n",
        "y_test_onehot = tf.keras.utils.to_categorical(y_test, num_classes=4)"
      ],
      "metadata": {
        "collapsed": true,
        "id": "8srIwaMYgPke"
      },
      "execution_count": 17,
      "outputs": []
    },
    {
      "cell_type": "markdown",
      "source": [
        "# Training"
      ],
      "metadata": {
        "id": "0GhVFzqgoUan"
      }
    },
    {
      "cell_type": "code",
      "source": [
        "# # Load pre-trained GloVe embeddings\n",
        "\n",
        "# embedding_path = '/content/drive/MyDrive/Colab Notebooks/TwitterSentimentAnalysis/glove.6B.100d.txt'\n",
        "# embeddings_index = {}\n",
        "# with open(embedding_path, encoding='utf-8') as f:  # Replace with your GloVe path\n",
        "#     for line in f:\n",
        "#         values = line.split()\n",
        "#         word = values[0]\n",
        "#         coefs = np.asarray(values[1:], dtype='float32')\n",
        "#         embeddings_index[word] = coefs\n",
        "\n",
        "# word_index = tokenizer.word_index\n",
        "# embedding_matrix = np.zeros((max_words, 100))\n",
        "\n",
        "# for word, i in word_index.items():\n",
        "#     if i < max_words:\n",
        "#         embedding_vector = embeddings_index.get(word)\n",
        "#         if embedding_vector is not None:\n",
        "#             embedding_matrix[i] = embedding_vector"
      ],
      "metadata": {
        "id": "OCP6fSzZwhVu"
      },
      "execution_count": null,
      "outputs": []
    },
    {
      "cell_type": "code",
      "source": [
        "model = tf.keras.Sequential()\n",
        "# model.add(Embedding(max_words, 100, weights=[embedding_matrix], input_length=max_length, trainable=False))\n",
        "model.add(Embedding(max_words, 100, input_length=max_length))\n",
        "model.add(SpatialDropout1D(0.2))\n",
        "model.add(Bidirectional(LSTM(100, dropout=0.2, recurrent_dropout=0.2)))\n",
        "model.add(Dense(4, activation='softmax'))\n",
        "model.summary()"
      ],
      "metadata": {
        "colab": {
          "base_uri": "https://localhost:8080/"
        },
        "id": "7daRfh9XyOkl",
        "outputId": "1065a1f4-7058-49ae-86fb-d89f23b7d7a5"
      },
      "execution_count": 35,
      "outputs": [
        {
          "output_type": "stream",
          "name": "stderr",
          "text": [
            "WARNING:tensorflow:Layer lstm_3 will not use cuDNN kernels since it doesn't meet the criteria. It will use a generic GPU kernel as fallback when running on GPU.\n",
            "WARNING:tensorflow:Layer lstm_3 will not use cuDNN kernels since it doesn't meet the criteria. It will use a generic GPU kernel as fallback when running on GPU.\n",
            "WARNING:tensorflow:Layer lstm_3 will not use cuDNN kernels since it doesn't meet the criteria. It will use a generic GPU kernel as fallback when running on GPU.\n"
          ]
        },
        {
          "output_type": "stream",
          "name": "stdout",
          "text": [
            "Model: \"sequential_7\"\n",
            "_________________________________________________________________\n",
            " Layer (type)                Output Shape              Param #   \n",
            "=================================================================\n",
            " embedding (Embedding)       (None, 100, 100)          2000000   \n",
            "                                                                 \n",
            " spatial_dropout1d (Spatial  (None, 100, 100)          0         \n",
            " Dropout1D)                                                      \n",
            "                                                                 \n",
            " bidirectional (Bidirection  (None, 200)               160800    \n",
            " al)                                                             \n",
            "                                                                 \n",
            " dense_14 (Dense)            (None, 4)                 804       \n",
            "                                                                 \n",
            "=================================================================\n",
            "Total params: 2161604 (8.25 MB)\n",
            "Trainable params: 2161604 (8.25 MB)\n",
            "Non-trainable params: 0 (0.00 Byte)\n",
            "_________________________________________________________________\n"
          ]
        }
      ]
    },
    {
      "cell_type": "code",
      "execution_count": 36,
      "metadata": {
        "id": "eSEgMybvz1fJ"
      },
      "outputs": [],
      "source": [
        "model.compile(optimizer='adam', loss='categorical_crossentropy', metrics=['accuracy'])"
      ]
    },
    {
      "cell_type": "code",
      "execution_count": 59,
      "metadata": {
        "colab": {
          "base_uri": "https://localhost:8080/"
        },
        "id": "fOl-cVhtxW_W",
        "outputId": "a34fed7a-e533-44e8-8923-4e82652cc428",
        "collapsed": true
      },
      "outputs": [
        {
          "output_type": "stream",
          "name": "stdout",
          "text": [
            "Epoch 1/3\n",
            "560/560 [==============================] - 416s 743ms/step - loss: 0.1871 - accuracy: 0.9255 - val_loss: 0.1547 - val_accuracy: 0.9600\n",
            "Epoch 2/3\n",
            "560/560 [==============================] - 365s 653ms/step - loss: 0.1769 - accuracy: 0.9287 - val_loss: 0.1486 - val_accuracy: 0.9620\n",
            "Epoch 3/3\n",
            "560/560 [==============================] - 361s 645ms/step - loss: 0.1686 - accuracy: 0.9316 - val_loss: 0.1615 - val_accuracy: 0.9600\n"
          ]
        },
        {
          "output_type": "execute_result",
          "data": {
            "text/plain": [
              "<keras.src.callbacks.History at 0x7ee7a6261930>"
            ]
          },
          "metadata": {},
          "execution_count": 59
        }
      ],
      "source": [
        "# Train the model with a reduced batch size\n",
        "model.fit(X_train_pad, y_train_onehot, epochs=3, batch_size=128, validation_data=(X_test_pad, y_test_onehot))"
      ]
    },
    {
      "cell_type": "code",
      "execution_count": 60,
      "metadata": {
        "id": "_Ag0aUnqz56n",
        "colab": {
          "base_uri": "https://localhost:8080/"
        },
        "outputId": "c022ba46-70ea-4fa2-c5a1-7b599e3329a7"
      },
      "outputs": [
        {
          "output_type": "execute_result",
          "data": {
            "text/plain": [
              "['tokenizer1.joblib']"
            ]
          },
          "metadata": {},
          "execution_count": 60
        }
      ],
      "source": [
        "# Save the trained model\n",
        "model.save('sentiment_model1.h5')\n",
        "dump(tokenizer, 'tokenizer1.joblib')"
      ]
    },
    {
      "cell_type": "code",
      "source": [
        "# in the train_data which sentiment has been given which label\n",
        "label_encoder = LabelEncoder()\n",
        "label_encoder.fit_transform(train_data_['Sentiment'])\n",
        "for sentiment, label in zip(label_encoder.classes_, label_encoder.transform(label_encoder.classes_)):\n",
        "  print(f\"Sentiment: {sentiment}, Label: {label}\")\n",
        "\n"
      ],
      "metadata": {
        "colab": {
          "base_uri": "https://localhost:8080/"
        },
        "id": "mMbvQpBkmKXt",
        "outputId": "f109da3d-9ac5-4df5-e317-c106009c3eea"
      },
      "execution_count": 47,
      "outputs": [
        {
          "output_type": "stream",
          "name": "stdout",
          "text": [
            "Sentiment: Irrelevant, Label: 0\n",
            "Sentiment: Negative, Label: 1\n",
            "Sentiment: Neutral, Label: 2\n",
            "Sentiment: Positive, Label: 3\n"
          ]
        }
      ]
    },
    {
      "cell_type": "markdown",
      "source": [
        "# Evaluation"
      ],
      "metadata": {
        "id": "8n3p0D7jFqsI"
      }
    },
    {
      "cell_type": "code",
      "source": [
        "# load model and compute accuracy, recall, precision, f1score and confusion matrix for test_data\n",
        "\n",
        "import numpy as np\n",
        "from sklearn.metrics import accuracy_score, precision_score, recall_score, f1_score, confusion_matrix\n",
        "import tensorflow as tf\n",
        "\n",
        "# Load the saved model\n",
        "loaded_model = tf.keras.models.load_model('sentiment_model1.h5')\n",
        "\n",
        "# Make predictions on the test data\n",
        "y_pred_probs = loaded_model.predict(X_test_pad)\n",
        "y_pred = np.argmax(y_pred_probs, axis=1)\n",
        "\n",
        "# Calculate evaluation metrics\n",
        "accuracy = accuracy_score(y_test, y_pred)\n",
        "precision = precision_score(y_test, y_pred, average='weighted')\n",
        "recall = recall_score(y_test, y_pred, average='weighted')\n",
        "f1 = f1_score(y_test, y_pred, average='weighted')\n",
        "conf_matrix = confusion_matrix(y_test, y_pred)\n",
        "\n",
        "# Print the results\n",
        "print(\"Accuracy:\", accuracy)\n",
        "print(\"Precision:\", precision)\n",
        "print(\"Recall:\", recall)\n",
        "print(\"F1-score:\", f1)\n",
        "print(\"Confusion Matrix:\\n\", conf_matrix)\n"
      ],
      "metadata": {
        "colab": {
          "base_uri": "https://localhost:8080/"
        },
        "id": "viVdnHbvF3jd",
        "outputId": "ef2934d9-194d-42ec-b735-3ff9ee599468"
      },
      "execution_count": 61,
      "outputs": [
        {
          "output_type": "stream",
          "name": "stderr",
          "text": [
            "WARNING:tensorflow:Layer lstm_3 will not use cuDNN kernels since it doesn't meet the criteria. It will use a generic GPU kernel as fallback when running on GPU.\n",
            "WARNING:tensorflow:Layer lstm_3 will not use cuDNN kernels since it doesn't meet the criteria. It will use a generic GPU kernel as fallback when running on GPU.\n",
            "WARNING:tensorflow:Layer lstm_3 will not use cuDNN kernels since it doesn't meet the criteria. It will use a generic GPU kernel as fallback when running on GPU.\n"
          ]
        },
        {
          "output_type": "stream",
          "name": "stdout",
          "text": [
            "32/32 [==============================] - 3s 79ms/step\n",
            "Accuracy: 0.96\n",
            "Precision: 0.9604099000999\n",
            "Recall: 0.96\n",
            "F1-score: 0.960000572823461\n",
            "Confusion Matrix:\n",
            " [[168   1   0   3]\n",
            " [  0 259   3   4]\n",
            " [  4   7 267   7]\n",
            " [  0   8   3 266]]\n"
          ]
        }
      ]
    },
    {
      "cell_type": "code",
      "source": [
        "# print conf_matrix using sns and label 0, 1, 2 ,3 as Irrelevant, Negative, Neutral and Positive\n",
        "\n",
        "import seaborn as sns\n",
        "import matplotlib.pyplot as plt\n",
        "\n",
        "# ... (preceding code)\n",
        "\n",
        "# Plot confusion matrix using seaborn\n",
        "labels = ['Irrelevant', 'Negative', 'Neutral', 'Positive']\n",
        "sns.heatmap(conf_matrix, annot=True, fmt='d', cmap='Blues', xticklabels=labels, yticklabels=labels)\n",
        "plt.xlabel('Predicted Label')\n",
        "plt.ylabel('True Label')\n",
        "plt.title('Confusion Matrix')\n",
        "plt.show()\n"
      ],
      "metadata": {
        "colab": {
          "base_uri": "https://localhost:8080/",
          "height": 472
        },
        "id": "ZctCOCbTQj-R",
        "outputId": "d903f03b-131f-4ecc-f47e-890c811217e7"
      },
      "execution_count": 62,
      "outputs": [
        {
          "output_type": "display_data",
          "data": {
            "text/plain": [
              "<Figure size 640x480 with 2 Axes>"
            ],
            "image/png": "[encoded data removed]"
          },
          "metadata": {}
        }
      ]
    },
    {
      "cell_type": "code",
      "source": [
        "# Now print conf_matrix as same as above but showing fractions\n",
        "\n",
        "import matplotlib.pyplot as plt\n",
        "import numpy as np\n",
        "# Plot confusion matrix using seaborn with fractions\n",
        "labels = ['Irrelevant', 'Negative', 'Neutral', 'Positive']\n",
        "conf_matrix_norm = conf_matrix.astype('float') / conf_matrix.sum(axis=1)[:, np.newaxis]  # Normalize\n",
        "sns.heatmap(conf_matrix_norm, annot=True, fmt='.2f', cmap='Blues', xticklabels=labels, yticklabels=labels)\n",
        "plt.xlabel('Predicted Label')\n",
        "plt.ylabel('True Label')\n",
        "plt.title('Normalized Confusion Matrix')\n",
        "plt.show()\n"
      ],
      "metadata": {
        "colab": {
          "base_uri": "https://localhost:8080/",
          "height": 472
        },
        "id": "D24J77vsRF_i",
        "outputId": "99203192-c65e-4123-8ac8-409ca6d33a2f"
      },
      "execution_count": 63,
      "outputs": [
        {
          "output_type": "display_data",
          "data": {
            "text/plain": [
              "<Figure size 640x480 with 2 Axes>"
            ],
            "image/png": "[encoded data removed]"
          },
          "metadata": {}
        }
      ]
    },
    {
      "cell_type": "code",
      "source": [
        "# show count of unique Sentiments in test_data_\n",
        "\n",
        "# Count unique Sentiments in test_data_\n",
        "sentiment_counts = test_data_['Sentiment'].value_counts()\n",
        "print(sentiment_counts)\n"
      ],
      "metadata": {
        "colab": {
          "base_uri": "https://localhost:8080/"
        },
        "id": "5gUOKsAYQSPM",
        "outputId": "3efc3704-215a-4f8e-c2f4-77459284e05f"
      },
      "execution_count": 50,
      "outputs": [
        {
          "output_type": "stream",
          "name": "stdout",
          "text": [
            "Sentiment\n",
            "Neutral       285\n",
            "Positive      277\n",
            "Negative      266\n",
            "Irrelevant    172\n",
            "Name: count, dtype: int64\n"
          ]
        }
      ]
    },
    {
      "cell_type": "code",
      "source": [
        "sentiment_counts = test_data['Sentiment'].value_counts()\n",
        "print(sentiment_counts)"
      ],
      "metadata": {
        "colab": {
          "base_uri": "https://localhost:8080/"
        },
        "id": "xircZLFjQaTL",
        "outputId": "6f0db4ff-831a-4130-df5e-c0eda08b5713"
      },
      "execution_count": 51,
      "outputs": [
        {
          "output_type": "stream",
          "name": "stdout",
          "text": [
            "Sentiment\n",
            "2    285\n",
            "3    277\n",
            "1    266\n",
            "0    172\n",
            "Name: count, dtype: int64\n"
          ]
        }
      ]
    },
    {
      "cell_type": "markdown",
      "source": [
        "# Visualize Embeddings"
      ],
      "metadata": {
        "id": "5Ym-9NRRHD0L"
      }
    },
    {
      "cell_type": "code",
      "source": [
        "# visualize embeddings in loaded_model in 3d\n",
        "\n",
        "from sklearn.manifold import TSNE\n",
        "import matplotlib.pyplot as plt\n",
        "\n",
        "# Get the embedding layer's weights\n",
        "embedding_layer = loaded_model.layers[0]\n",
        "embedding_weights = embedding_layer.get_weights()[0]\n",
        "\n",
        "# Apply t-SNE to reduce dimensionality for visualization\n",
        "tsne = TSNE(n_components=3, random_state=42)\n",
        "embeddings_3d = tsne.fit_transform(embedding_weights)\n",
        "\n",
        "# Visualize the embeddings in 3D\n",
        "fig = plt.figure()\n",
        "ax = fig.add_subplot(111, projection='3d')\n",
        "\n",
        "# For simplicity, plot a subset of the embeddings\n",
        "num_words_to_plot = 100\n",
        "for i in range(num_words_to_plot):\n",
        "    ax.scatter(embeddings_3d[i, 0], embeddings_3d[i, 1], embeddings_3d[i, 2])\n",
        "    ax.text(embeddings_3d[i, 0], embeddings_3d[i, 1], embeddings_3d[i, 2], s=list(word_index.keys())[i])\n",
        "\n",
        "ax.set_xlabel('Dimension 1')\n",
        "ax.set_ylabel('Dimension 2')\n",
        "ax.set_zlabel('Dimension 3')\n",
        "plt.title('3D Visualization of Word Embeddings')\n",
        "plt.show()\n"
      ],
      "metadata": {
        "id": "GJ6ZvEZ9Q2_g"
      },
      "execution_count": null,
      "outputs": []
    },
    {
      "cell_type": "code",
      "source": [
        "# visualize embeddings in loaded_model\n",
        "\n",
        "import matplotlib.pyplot as plt\n",
        "# Extract embeddings from the loaded model\n",
        "embeddings = loaded_model.layers[0].get_weights()[0]\n",
        "\n",
        "# Reduce dimensionality for visualization (e.g., using PCA)\n",
        "from sklearn.decomposition import PCA\n",
        "pca = PCA(n_components = 2)\n",
        "reduced_embeddings = pca.fit_transform(embeddings)\n",
        "\n",
        "# Plot the reduced embeddings\n",
        "plt.figure(figsize=(10, 10))\n",
        "for i, word in enumerate(tokenizer.word_index):\n",
        "    if i < 100:  # Limit to the first 100 words for clarity\n",
        "        x, y = reduced_embeddings[i]\n",
        "        plt.scatter(x, y)\n",
        "        plt.annotate(word, (x, y), fontsize=8)\n",
        "\n",
        "plt.title('Word Embeddings Visualization')\n",
        "plt.show()\n"
      ],
      "metadata": {
        "colab": {
          "base_uri": "https://localhost:8080/",
          "height": 853
        },
        "id": "gcnOXyvrHFgU",
        "outputId": "55f06bf2-bcb5-4897-94e0-f89c48c28eb8"
      },
      "execution_count": 56,
      "outputs": [
        {
          "output_type": "display_data",
          "data": {
            "text/plain": [
              "<Figure size 1000x1000 with 1 Axes>"
            ],
            "image/png": "[encoded data removed]"
          },
          "metadata": {}
        }
      ]
    }
  ],
  "metadata": {
    "colab": {
      "provenance": [],
      "toc_visible": true,
      "gpuType": "T4",
      "include_colab_link": true
    },
    "kernelspec": {
      "display_name": "Python 3",
      "name": "python3"
    },
    "language_info": {
      "name": "python"
    },
    "accelerator": "GPU"
  },
  "nbformat": 4,
  "nbformat_minor": 0
}